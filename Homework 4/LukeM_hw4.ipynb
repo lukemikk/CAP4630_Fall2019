{
  "nbformat": 4,
  "nbformat_minor": 0,
  "metadata": {
    "colab": {
      "name": "LukeM_hw4",
      "provenance": [],
      "collapsed_sections": []
    },
    "kernelspec": {
      "name": "python3",
      "display_name": "Python 3"
    },
    "accelerator": "GPU"
  },
  "cells": [
    {
      "cell_type": "markdown",
      "metadata": {
        "id": "RThEvGyUzXpK",
        "colab_type": "text"
      },
      "source": [
        "## Throughout this document, I will construct a supervised learning convolutional neural network classifying MNIST fashion items as an practical example. Code snippets will be placed at relevant places in the notebook based on the material. \n",
        "\n",
        "## Additionally, I will modify a different pre-trained model in the last section to illustrate fine-tuning."
      ]
    },
    {
      "cell_type": "code",
      "metadata": {
        "id": "DeKnVpkItuLv",
        "colab_type": "code",
        "outputId": "754acad1-aa46-4a99-e5be-c72dadd31a60",
        "colab": {
          "base_uri": "https://localhost:8080/",
          "height": 97
        }
      },
      "source": [
        "# imports\n",
        "import matplotlib.pyplot as plt\n",
        "import numpy as np\n",
        "\n",
        "import os\n",
        "import zipfile\n",
        "\n",
        "# tensorflow and keras\n",
        "import tensorflow as tf\n",
        "from tensorflow import keras\n",
        "\n",
        "from keras import utils\n",
        "from keras import layers\n",
        "from keras import models\n",
        "from keras import optimizers\n",
        "from keras.preprocessing.image import ImageDataGenerator"
      ],
      "execution_count": 0,
      "outputs": [
        {
          "output_type": "display_data",
          "data": {
            "text/html": [
              "<p style=\"color: red;\">\n",
              "The default version of TensorFlow in Colab will soon switch to TensorFlow 2.x.<br>\n",
              "We recommend you <a href=\"https://www.tensorflow.org/guide/migrate\" target=\"_blank\">upgrade</a> now \n",
              "or ensure your notebook will continue to use TensorFlow 1.x via the <code>%tensorflow_version 1.x</code> magic:\n",
              "<a href=\"https://colab.research.google.com/notebooks/tensorflow_version.ipynb\" target=\"_blank\">more info</a>.</p>\n"
            ],
            "text/plain": [
              "<IPython.core.display.HTML object>"
            ]
          },
          "metadata": {
            "tags": []
          }
        },
        {
          "output_type": "stream",
          "text": [
            "Using TensorFlow backend.\n"
          ],
          "name": "stderr"
        }
      ]
    },
    {
      "cell_type": "markdown",
      "metadata": {
        "id": "d4V3aW0trZ4F",
        "colab_type": "text"
      },
      "source": [
        "# 1. General concepts"
      ]
    },
    {
      "cell_type": "markdown",
      "metadata": {
        "id": "TOpyYWB2rx7o",
        "colab_type": "text"
      },
      "source": [
        "## What is AI?\n",
        "\n",
        "Artificial Intelligence is a field in computing pertaining to the pursuit of intelligent machines. There are often misconceptions about what is or is not AI, but it is important to note that AI broadly encompasses everything relating to machine intelligence."
      ]
    },
    {
      "cell_type": "markdown",
      "metadata": {
        "id": "I1cDYekRtKrV",
        "colab_type": "text"
      },
      "source": [
        "## What is machine learning?\n",
        "\n",
        "Machine learning is a modern application of AI, with the methodology of giving computers sufficient data to come up with their own algorithms and parameters to solve problems."
      ]
    },
    {
      "cell_type": "markdown",
      "metadata": {
        "id": "gEb-XmclzksV",
        "colab_type": "text"
      },
      "source": [
        "## What is deep learning?\n",
        "\n",
        "Deep learning is a subset of machine learning using various layers to convert input information into data the computer can understand and model patterns with."
      ]
    },
    {
      "cell_type": "markdown",
      "metadata": {
        "id": "OSxuuKQskBt9",
        "colab_type": "text"
      },
      "source": [
        "## Machine learning terminology\n"
      ]
    },
    {
      "cell_type": "markdown",
      "metadata": {
        "id": "GHDg-vIwoBc4",
        "colab_type": "text"
      },
      "source": [
        "### Feature\n",
        "\n",
        "A distinct measurement or description. Machine learning models use these to make inferences about the data."
      ]
    },
    {
      "cell_type": "markdown",
      "metadata": {
        "id": "evPiFuLvoHhj",
        "colab_type": "text"
      },
      "source": [
        "### Label\n",
        "\n",
        "A classification for a given input to a machine learning model. Models associate these with patterns in the data."
      ]
    },
    {
      "cell_type": "markdown",
      "metadata": {
        "id": "gf6ag5ecseba",
        "colab_type": "text"
      },
      "source": [
        "### Loss\n",
        "\n",
        "Numerical difference between real data and model predicted data."
      ]
    },
    {
      "cell_type": "markdown",
      "metadata": {
        "id": "q-RCrbRWsCOW",
        "colab_type": "text"
      },
      "source": [
        "### Weights\n",
        "\n",
        "Values representative of the importance of each feature to the model."
      ]
    },
    {
      "cell_type": "markdown",
      "metadata": {
        "id": "7KrMbjVwq8--",
        "colab_type": "text"
      },
      "source": [
        "### Bias\n",
        "\n",
        "Constant value influencing model along with weights."
      ]
    },
    {
      "cell_type": "markdown",
      "metadata": {
        "id": "NPR9faZUpOXk",
        "colab_type": "text"
      },
      "source": [
        "### Training\n",
        "\n",
        "Providing a model with a large quantity of input samples, in order for it to determine fitting values for the weights and bias to minimize loss."
      ]
    },
    {
      "cell_type": "markdown",
      "metadata": {
        "id": "Uz3wvbMDqA4Q",
        "colab_type": "text"
      },
      "source": [
        "### Testing\n",
        "\n",
        "Plugging known test inputs into a previously constructed model in order to test its accuracy."
      ]
    },
    {
      "cell_type": "markdown",
      "metadata": {
        "id": "I6ovRBz3tczz",
        "colab_type": "text"
      },
      "source": [
        "### Linear regression\n",
        "\n",
        "Composing a linear relationship between features to make predictions about input data."
      ]
    },
    {
      "cell_type": "markdown",
      "metadata": {
        "id": "1QScgrwot7Lf",
        "colab_type": "text"
      },
      "source": [
        "### Gradient descent\n",
        "\n",
        "An optimization algorithm used to minimize loss in machine learning by moving in the steepest direction defined by the gradient. Used to alter weights of the model."
      ]
    },
    {
      "cell_type": "markdown",
      "metadata": {
        "id": "Bll7NifCuj3W",
        "colab_type": "text"
      },
      "source": [
        "### Learning rate\n",
        "\n",
        "Rate at which \"jumps\" in gradient descent are performed."
      ]
    },
    {
      "cell_type": "markdown",
      "metadata": {
        "id": "MXXrycO_v7DJ",
        "colab_type": "text"
      },
      "source": [
        "### Binary classification\n",
        "\n",
        "Classifying an input as fitting or not fitting a single categorization."
      ]
    },
    {
      "cell_type": "markdown",
      "metadata": {
        "id": "aUvRx_uewU7Q",
        "colab_type": "text"
      },
      "source": [
        "### Multiclass classification\n",
        "\n",
        "Classifying an input as one of numerous categories."
      ]
    },
    {
      "cell_type": "markdown",
      "metadata": {
        "id": "paTHnrwgl6X0",
        "colab_type": "text"
      },
      "source": [
        "## Types of machine learning\n",
        "\n",
        "There are numerous acknowledged paradigms of machine learning, although the lines dividing them can be blurred in cases."
      ]
    },
    {
      "cell_type": "markdown",
      "metadata": {
        "id": "GoFosbNUl87A",
        "colab_type": "text"
      },
      "source": [
        "### Supervised learning\n",
        "\n",
        "The model is provided with labeled training data, allowing the model to determine a relationship between features and their respective labels."
      ]
    },
    {
      "cell_type": "markdown",
      "metadata": {
        "id": "TqSrkbpznCvp",
        "colab_type": "text"
      },
      "source": [
        "### Unsupervised learning\n",
        "\n",
        "The model is provided with unlabeled training data, and the model must decide how to distribute the data into distinct groups based on features."
      ]
    },
    {
      "cell_type": "markdown",
      "metadata": {
        "id": "anpJyQusyi2d",
        "colab_type": "text"
      },
      "source": [
        "## Code example: Pre-processing MNIST fashion data and classes\n",
        "\n"
      ]
    },
    {
      "cell_type": "code",
      "metadata": {
        "id": "XL5Or6Hmt4w8",
        "colab_type": "code",
        "colab": {}
      },
      "source": [
        "fashion_mnist = keras.datasets.fashion_mnist\n",
        "(train_images, train_labels), (test_images, test_labels) = fashion_mnist.load_data()\n",
        "\n",
        "class_names = ['T-shirt/top', 'Trouser', 'Pullover', 'Dress', 'Coat',\n",
        "               'Sandal', 'Shirt', 'Sneaker', 'Bag', 'Ankle boot']"
      ],
      "execution_count": 0,
      "outputs": []
    },
    {
      "cell_type": "code",
      "metadata": {
        "id": "56JYEfv1vK7u",
        "colab_type": "code",
        "colab": {}
      },
      "source": [
        "train_images = train_images / 255.0\n",
        "test_images = test_images / 255.0"
      ],
      "execution_count": 0,
      "outputs": []
    },
    {
      "cell_type": "markdown",
      "metadata": {
        "id": "YU0mzklQrbP9",
        "colab_type": "text"
      },
      "source": [
        "# 2. Building a model"
      ]
    },
    {
      "cell_type": "markdown",
      "metadata": {
        "id": "045128_CCyV3",
        "colab_type": "text"
      },
      "source": [
        "## Structure of a convolutional neural network\n",
        "\n",
        "Convolutional neural networks are composed of many convolutional and dense layers."
      ]
    },
    {
      "cell_type": "markdown",
      "metadata": {
        "id": "nY-_CklHx_6g",
        "colab_type": "text"
      },
      "source": [
        "## Layers\n",
        "\n",
        "The layers of a convnet alter the data in numerous ways. The end result of these layers is to allow the network to detect features and classify input based on those features."
      ]
    },
    {
      "cell_type": "markdown",
      "metadata": {
        "id": "ff_6t5AzJu5a",
        "colab_type": "text"
      },
      "source": [
        "### Standard convolutional layers\n",
        "\n",
        "A convolutional layer applies a filter to an input, resulting in an activation. These make up the bulk of convnets. They use a variety of different activation functions to convolve the data."
      ]
    },
    {
      "cell_type": "markdown",
      "metadata": {
        "id": "fecFrIqXOEei",
        "colab_type": "text"
      },
      "source": [
        "### Pooling convolutional layers\n",
        "\n",
        "The purpose of these layers is to decrease the spatial size of the convolved feature. They are also useful for extracting dominant features and reducing noise in input data."
      ]
    },
    {
      "cell_type": "markdown",
      "metadata": {
        "id": "88VDbV0UxbJl",
        "colab_type": "text"
      },
      "source": [
        "### Dense layers\n",
        "\n",
        "A dense layer does a matrix vector multiplication on the input, and outputs a vector. Useful to change the dimensions of the data."
      ]
    },
    {
      "cell_type": "markdown",
      "metadata": {
        "id": "yEqVJXs3PB9P",
        "colab_type": "text"
      },
      "source": [
        "## Activation functions\n",
        "\n",
        "Choice of activation function is critical to a getting the desired results from a convnet. Each has its benefits and downsides."
      ]
    },
    {
      "cell_type": "markdown",
      "metadata": {
        "id": "Jq3qTybQPa-V",
        "colab_type": "text"
      },
      "source": [
        "### ReLU  (Rectified Linear Unit)\n",
        "\n",
        "The ReLU function drops all numerical data that is less than zero, and leaves everything else unchanged. It is considered the standard activation function currently."
      ]
    },
    {
      "cell_type": "markdown",
      "metadata": {
        "id": "1Vk7Fo4fRHQA",
        "colab_type": "text"
      },
      "source": [
        "### Softmax\n",
        "\n",
        "The Softmax function converts numerical inputs into a vector of probablities summing to 1.0. Most useful when dealing with more than two classes in multiclass classification."
      ]
    },
    {
      "cell_type": "markdown",
      "metadata": {
        "id": "MAAeH0DdgGbx",
        "colab_type": "text"
      },
      "source": [
        "### Sigmoid\n",
        "\n",
        "The Sigmoid function is a monotonically increasing function that returns a value from 0 to 1. Generally inferior to Softmax, but often used when there are two classes in a multiclass classification problem."
      ]
    },
    {
      "cell_type": "markdown",
      "metadata": {
        "id": "3oT5wRs0zDk0",
        "colab_type": "text"
      },
      "source": [
        "## Code example: Building model with convolutional, pooling, and dense layers, and ReLU and softmax activation functions"
      ]
    },
    {
      "cell_type": "code",
      "metadata": {
        "colab_type": "code",
        "id": "gBQPWdGz_k0t",
        "outputId": "9a8d3889-4e1e-4d75-b03b-8b9b468a7c9f",
        "colab": {
          "base_uri": "https://localhost:8080/",
          "height": 173
        }
      },
      "source": [
        "# build model\n",
        "model = models.Sequential()\n",
        "\n",
        "# convolution layers\n",
        "model.add(layers.Conv1D(32, 3, activation='relu', input_shape=(28, 28)))\n",
        "model.add(layers.MaxPooling1D(2))\n",
        "\n",
        "model.add(layers.Conv1D(64, 3, activation='relu'))\n",
        "model.add(layers.MaxPooling1D(2))\n",
        "\n",
        "model.add(layers.Conv1D(128, 3, activation='relu'))\n",
        "\n",
        "# flattening + dense layers\n",
        "model.add(layers.Flatten())\n",
        "\n",
        "model.add(layers.Dense(32, activation='relu'))\n",
        "model.add(layers.Dense(10, activation='softmax'))"
      ],
      "execution_count": 0,
      "outputs": [
        {
          "output_type": "stream",
          "text": [
            "WARNING:tensorflow:From /usr/local/lib/python3.6/dist-packages/keras/backend/tensorflow_backend.py:66: The name tf.get_default_graph is deprecated. Please use tf.compat.v1.get_default_graph instead.\n",
            "\n",
            "WARNING:tensorflow:From /usr/local/lib/python3.6/dist-packages/keras/backend/tensorflow_backend.py:541: The name tf.placeholder is deprecated. Please use tf.compat.v1.placeholder instead.\n",
            "\n",
            "WARNING:tensorflow:From /usr/local/lib/python3.6/dist-packages/keras/backend/tensorflow_backend.py:4432: The name tf.random_uniform is deprecated. Please use tf.random.uniform instead.\n",
            "\n",
            "WARNING:tensorflow:From /usr/local/lib/python3.6/dist-packages/keras/backend/tensorflow_backend.py:4267: The name tf.nn.max_pool is deprecated. Please use tf.nn.max_pool2d instead.\n",
            "\n"
          ],
          "name": "stdout"
        }
      ]
    },
    {
      "cell_type": "code",
      "metadata": {
        "colab_type": "code",
        "outputId": "ff80d4a6-46fc-43e1-9963-7e3971268088",
        "id": "kBSHHb1Z_k0y",
        "colab": {
          "base_uri": "https://localhost:8080/",
          "height": 425
        }
      },
      "source": [
        "# summarize model\n",
        "model.summary()"
      ],
      "execution_count": 0,
      "outputs": [
        {
          "output_type": "stream",
          "text": [
            "Model: \"sequential_1\"\n",
            "_________________________________________________________________\n",
            "Layer (type)                 Output Shape              Param #   \n",
            "=================================================================\n",
            "conv1d_1 (Conv1D)            (None, 26, 32)            2720      \n",
            "_________________________________________________________________\n",
            "max_pooling1d_1 (MaxPooling1 (None, 13, 32)            0         \n",
            "_________________________________________________________________\n",
            "conv1d_2 (Conv1D)            (None, 11, 64)            6208      \n",
            "_________________________________________________________________\n",
            "max_pooling1d_2 (MaxPooling1 (None, 5, 64)             0         \n",
            "_________________________________________________________________\n",
            "conv1d_3 (Conv1D)            (None, 3, 128)            24704     \n",
            "_________________________________________________________________\n",
            "flatten_1 (Flatten)          (None, 384)               0         \n",
            "_________________________________________________________________\n",
            "dense_1 (Dense)              (None, 32)                12320     \n",
            "_________________________________________________________________\n",
            "dense_2 (Dense)              (None, 10)                330       \n",
            "=================================================================\n",
            "Total params: 46,282\n",
            "Trainable params: 46,282\n",
            "Non-trainable params: 0\n",
            "_________________________________________________________________\n"
          ],
          "name": "stdout"
        }
      ]
    },
    {
      "cell_type": "markdown",
      "metadata": {
        "id": "8XkCqKTjrkQR",
        "colab_type": "text"
      },
      "source": [
        "# 3. Compiling a model"
      ]
    },
    {
      "cell_type": "markdown",
      "metadata": {
        "id": "teM990YH2BvE",
        "colab_type": "text"
      },
      "source": [
        "## Optimizers\n",
        "\n",
        "Optimizer functions, in conjunction with learning rate, help the model zero in on minimal loss values for each weight. Gradient descent is a popular example."
      ]
    },
    {
      "cell_type": "markdown",
      "metadata": {
        "id": "AmtcIkhw3t6S",
        "colab_type": "text"
      },
      "source": [
        "### SGD (Stochastic Gradient Descent)\n",
        "\n",
        "A variant of gradient descent, with limited random selections. Noisier, but much less computationally demanding."
      ]
    },
    {
      "cell_type": "markdown",
      "metadata": {
        "id": "Ser_TkSU5TJK",
        "colab_type": "text"
      },
      "source": [
        "### Momentum\n",
        "\n",
        "Similar to SGD, but takes previous gradients into account as well."
      ]
    },
    {
      "cell_type": "markdown",
      "metadata": {
        "id": "40CLh_K15CP5",
        "colab_type": "text"
      },
      "source": [
        "### RMSprop (Root Mean Square Propogation)\n",
        "\n",
        "Essentially, RMSprop is gradient descent with momentum. It also varies learning rate for each individual weight."
      ]
    },
    {
      "cell_type": "markdown",
      "metadata": {
        "id": "nRjDy7QH7EJk",
        "colab_type": "text"
      },
      "source": [
        "## Loss functions\n",
        "\n",
        "There are numerous different loss functions available. Optimal choice of loss function usually depends on the problem being solved, or what activation function is used in the output layer of the network."
      ]
    },
    {
      "cell_type": "markdown",
      "metadata": {
        "id": "QVJLMqjSpJuF",
        "colab_type": "text"
      },
      "source": [
        "### MSE (Mean Squared Error)\n",
        "\n",
        "This function squares the differences between predicted and expected values. Most commonly used with linear regression."
      ]
    },
    {
      "cell_type": "markdown",
      "metadata": {
        "id": "LfEF7SlNqBpv",
        "colab_type": "text"
      },
      "source": [
        "### Cross-Entropy/Logarithmic\n",
        "\n",
        "This function compares probabilites to actual class output values. Commonly used in classification problems."
      ]
    },
    {
      "cell_type": "markdown",
      "metadata": {
        "id": "S3yEhsLQ7I3i",
        "colab_type": "text"
      },
      "source": [
        "## Code example: Compiling model with Cross-Entropy loss function and RMSprop optimizer"
      ]
    },
    {
      "cell_type": "code",
      "metadata": {
        "colab_type": "code",
        "id": "qSoZrG8T_k02",
        "outputId": "583ab653-5485-46e7-897a-dfc45e6be794",
        "colab": {
          "base_uri": "https://localhost:8080/",
          "height": 105
        }
      },
      "source": [
        "# compile model\n",
        "model.compile(optimizer=optimizers.RMSprop(lr=1e-4),\n",
        "              loss='sparse_categorical_crossentropy',\n",
        "              metrics=['accuracy'])"
      ],
      "execution_count": 0,
      "outputs": [
        {
          "output_type": "stream",
          "text": [
            "WARNING:tensorflow:From /usr/local/lib/python3.6/dist-packages/keras/optimizers.py:793: The name tf.train.Optimizer is deprecated. Please use tf.compat.v1.train.Optimizer instead.\n",
            "\n",
            "WARNING:tensorflow:From /usr/local/lib/python3.6/dist-packages/keras/backend/tensorflow_backend.py:3622: The name tf.log is deprecated. Please use tf.math.log instead.\n",
            "\n"
          ],
          "name": "stdout"
        }
      ]
    },
    {
      "cell_type": "markdown",
      "metadata": {
        "id": "HlnGCwaNre9H",
        "colab_type": "text"
      },
      "source": [
        "# 4. Training a model"
      ]
    },
    {
      "cell_type": "markdown",
      "metadata": {
        "id": "n-iaUbXZrC8p",
        "colab_type": "text"
      },
      "source": [
        "## Model fit\n",
        "\n",
        "Training a model is a very delicate process. An ideal model must learn the data well, but not too well."
      ]
    },
    {
      "cell_type": "markdown",
      "metadata": {
        "id": "BGOWcJa_rZ4C",
        "colab_type": "text"
      },
      "source": [
        "### Underfitting model\n",
        "\n",
        "An underfitting model has not recognized useful patterns in the data. Testing results are often inaccurate. This is usually a result of an overly simplistic model or not enough training data.\n",
        "\n"
      ]
    },
    {
      "cell_type": "markdown",
      "metadata": {
        "id": "ifEUmcc_sK5Q",
        "colab_type": "text"
      },
      "source": [
        "### Overfitting model\n",
        "\n",
        "An overfitting model has recognized too many patterns in the data, past the bounds of what the model was supposed to accomplish. This is usually indicated by high training accuracy, but low validation accuracy. This is usually indicative of an overly complex model or excessive time training."
      ]
    },
    {
      "cell_type": "markdown",
      "metadata": {
        "id": "W0l7GSrcuHzy",
        "colab_type": "text"
      },
      "source": [
        "### Well-fitting model\n",
        "\n",
        "This is considered a successful model. It has recognized only the desired patterns in the data, and has high training and testing accuracy relative to the task."
      ]
    },
    {
      "cell_type": "markdown",
      "metadata": {
        "id": "hRyD6hlUvMcP",
        "colab_type": "text"
      },
      "source": [
        "## Training terminology"
      ]
    },
    {
      "cell_type": "markdown",
      "metadata": {
        "id": "yAA6oEHpvPT1",
        "colab_type": "text"
      },
      "source": [
        "### Epoch\n",
        "\n",
        "Each epoch represents a single run of the dataset forward and backwards through the network."
      ]
    },
    {
      "cell_type": "markdown",
      "metadata": {
        "id": "H6RrY6McvjrO",
        "colab_type": "text"
      },
      "source": [
        "### Batch\n",
        "\n",
        "Since an entire dataset cannot be passed into a network all at once, we continually pass in subsets of the data or \"batches\". The batch size is the amount of data per batch."
      ]
    },
    {
      "cell_type": "markdown",
      "metadata": {
        "id": "dHqFq2S6wLAD",
        "colab_type": "text"
      },
      "source": [
        "### Iterations\n",
        "\n",
        "The number of batches required to complete an epoch."
      ]
    },
    {
      "cell_type": "markdown",
      "metadata": {
        "id": "kEH-m-X7ueB7",
        "colab_type": "text"
      },
      "source": [
        "## Code example: Training model with MNIST fashion training data for 15 epochs"
      ]
    },
    {
      "cell_type": "code",
      "metadata": {
        "colab_type": "code",
        "outputId": "c481ba35-0e54-49c7-9e4d-51ff4d903ad6",
        "id": "tHoFudW0_k05",
        "colab": {
          "base_uri": "https://localhost:8080/",
          "height": 887
        }
      },
      "source": [
        "epochs = 15\n",
        "history = model.fit(train_images, \n",
        "                    train_labels, \n",
        "                    epochs=epochs,  \n",
        "                    validation_data=(test_images, test_labels))"
      ],
      "execution_count": 0,
      "outputs": [
        {
          "output_type": "stream",
          "text": [
            "WARNING:tensorflow:From /usr/local/lib/python3.6/dist-packages/tensorflow_core/python/ops/math_grad.py:1424: where (from tensorflow.python.ops.array_ops) is deprecated and will be removed in a future version.\n",
            "Instructions for updating:\n",
            "Use tf.where in 2.0, which has the same broadcast rule as np.where\n",
            "WARNING:tensorflow:From /usr/local/lib/python3.6/dist-packages/keras/backend/tensorflow_backend.py:1033: The name tf.assign_add is deprecated. Please use tf.compat.v1.assign_add instead.\n",
            "\n",
            "WARNING:tensorflow:From /usr/local/lib/python3.6/dist-packages/keras/backend/tensorflow_backend.py:1020: The name tf.assign is deprecated. Please use tf.compat.v1.assign instead.\n",
            "\n",
            "WARNING:tensorflow:From /usr/local/lib/python3.6/dist-packages/keras/backend/tensorflow_backend.py:3005: The name tf.Session is deprecated. Please use tf.compat.v1.Session instead.\n",
            "\n",
            "Train on 60000 samples, validate on 10000 samples\n",
            "Epoch 1/15\n",
            "WARNING:tensorflow:From /usr/local/lib/python3.6/dist-packages/keras/backend/tensorflow_backend.py:190: The name tf.get_default_session is deprecated. Please use tf.compat.v1.get_default_session instead.\n",
            "\n",
            "WARNING:tensorflow:From /usr/local/lib/python3.6/dist-packages/keras/backend/tensorflow_backend.py:197: The name tf.ConfigProto is deprecated. Please use tf.compat.v1.ConfigProto instead.\n",
            "\n",
            "WARNING:tensorflow:From /usr/local/lib/python3.6/dist-packages/keras/backend/tensorflow_backend.py:207: The name tf.global_variables is deprecated. Please use tf.compat.v1.global_variables instead.\n",
            "\n",
            "WARNING:tensorflow:From /usr/local/lib/python3.6/dist-packages/keras/backend/tensorflow_backend.py:216: The name tf.is_variable_initialized is deprecated. Please use tf.compat.v1.is_variable_initialized instead.\n",
            "\n",
            "WARNING:tensorflow:From /usr/local/lib/python3.6/dist-packages/keras/backend/tensorflow_backend.py:223: The name tf.variables_initializer is deprecated. Please use tf.compat.v1.variables_initializer instead.\n",
            "\n",
            "60000/60000 [==============================] - 11s 188us/step - loss: 0.8634 - acc: 0.7019 - val_loss: 0.6413 - val_acc: 0.7488\n",
            "Epoch 2/15\n",
            "60000/60000 [==============================] - 11s 183us/step - loss: 0.5844 - acc: 0.7796 - val_loss: 0.5800 - val_acc: 0.7840\n",
            "Epoch 3/15\n",
            "60000/60000 [==============================] - 11s 180us/step - loss: 0.5343 - acc: 0.8031 - val_loss: 0.5345 - val_acc: 0.8030\n",
            "Epoch 4/15\n",
            "60000/60000 [==============================] - 11s 180us/step - loss: 0.4997 - acc: 0.8188 - val_loss: 0.5085 - val_acc: 0.8156\n",
            "Epoch 5/15\n",
            "60000/60000 [==============================] - 11s 183us/step - loss: 0.4738 - acc: 0.8299 - val_loss: 0.4926 - val_acc: 0.8213\n",
            "Epoch 6/15\n",
            "60000/60000 [==============================] - 11s 176us/step - loss: 0.4531 - acc: 0.8392 - val_loss: 0.4723 - val_acc: 0.8303\n",
            "Epoch 7/15\n",
            "60000/60000 [==============================] - 11s 179us/step - loss: 0.4371 - acc: 0.8455 - val_loss: 0.4764 - val_acc: 0.8294\n",
            "Epoch 8/15\n",
            "60000/60000 [==============================] - 11s 184us/step - loss: 0.4242 - acc: 0.8504 - val_loss: 0.4535 - val_acc: 0.8417\n",
            "Epoch 9/15\n",
            "60000/60000 [==============================] - 11s 180us/step - loss: 0.4127 - acc: 0.8537 - val_loss: 0.4482 - val_acc: 0.8435\n",
            "Epoch 10/15\n",
            "60000/60000 [==============================] - 11s 184us/step - loss: 0.4030 - acc: 0.8583 - val_loss: 0.4392 - val_acc: 0.8421\n",
            "Epoch 11/15\n",
            "60000/60000 [==============================] - 11s 187us/step - loss: 0.3949 - acc: 0.8594 - val_loss: 0.4343 - val_acc: 0.8474\n",
            "Epoch 12/15\n",
            "60000/60000 [==============================] - 11s 181us/step - loss: 0.3861 - acc: 0.8638 - val_loss: 0.4236 - val_acc: 0.8512\n",
            "Epoch 13/15\n",
            "60000/60000 [==============================] - 11s 177us/step - loss: 0.3792 - acc: 0.8642 - val_loss: 0.4063 - val_acc: 0.8575\n",
            "Epoch 14/15\n",
            "60000/60000 [==============================] - 11s 181us/step - loss: 0.3727 - acc: 0.8667 - val_loss: 0.4017 - val_acc: 0.8579\n",
            "Epoch 15/15\n",
            "60000/60000 [==============================] - 11s 185us/step - loss: 0.3679 - acc: 0.8695 - val_loss: 0.4072 - val_acc: 0.8567\n"
          ],
          "name": "stdout"
        }
      ]
    },
    {
      "cell_type": "code",
      "metadata": {
        "id": "OsrdybfUVOVP",
        "colab_type": "code",
        "colab": {}
      },
      "source": [
        "# save model\n",
        "model.save('mnist_fashion')"
      ],
      "execution_count": 0,
      "outputs": []
    },
    {
      "cell_type": "markdown",
      "metadata": {
        "id": "BTO6zz23xLNn",
        "colab_type": "text"
      },
      "source": [
        "### We can see from the graphical representation below that this model is a reasonably good fit."
      ]
    },
    {
      "cell_type": "code",
      "metadata": {
        "colab_type": "code",
        "outputId": "26c700ed-5462-4903-8f3a-cdbaf7ee038a",
        "id": "WU56QDLB_k0-",
        "colab": {
          "base_uri": "https://localhost:8080/",
          "height": 545
        }
      },
      "source": [
        "acc = history.history['acc']\n",
        "val_acc = history.history['val_acc']\n",
        "\n",
        "loss = history.history['loss']\n",
        "val_loss = history.history['val_loss']\n",
        "\n",
        "epochs = range(1, len(acc) + 1)\n",
        "\n",
        "# training and validation accuracy\n",
        "\n",
        "plt.plot(epochs, acc, 'bo', label='training acc')\n",
        "plt.plot(epochs, val_acc, 'b', label='validation acc')\n",
        "plt.title('training and validation accuracy')\n",
        "plt.legend()\n",
        "\n",
        "plt.figure()\n",
        "\n",
        "# training and validation loss\n",
        "\n",
        "plt.plot(epochs, loss, 'bo', label='training loss')\n",
        "plt.plot(epochs, val_loss, 'b', label='validation loss')\n",
        "plt.title('training and validation loss')\n",
        "plt.legend()\n",
        "\n",
        "plt.show()"
      ],
      "execution_count": 0,
      "outputs": [
        {
          "output_type": "display_data",
          "data": {
            "image/png": "[encoded data removed]",
            "text/plain": [
              "<Figure size 432x288 with 1 Axes>"
            ]
          },
          "metadata": {
            "tags": []
          }
        },
        {
          "output_type": "display_data",
          "data": {
            "image/png": "[encoded data removed]",
            "text/plain": [
              "<Figure size 432x288 with 1 Axes>"
            ]
          },
          "metadata": {
            "tags": []
          }
        }
      ]
    },
    {
      "cell_type": "markdown",
      "metadata": {
        "id": "WtpAC1Bdrs63",
        "colab_type": "text"
      },
      "source": [
        "# 5. Finetuning  a pretrained model"
      ]
    },
    {
      "cell_type": "markdown",
      "metadata": {
        "id": "YpfRwYywzLIx",
        "colab_type": "text"
      },
      "source": [
        "## What is the purpose of fine-tuning a model?\n",
        "\n",
        "Training a model from scratch can require a lot of resources, in terms of both computing power and datasets. We can allieviate these issues somewhat by using previously trained models as a base, and altering them to suit a new task."
      ]
    },
    {
      "cell_type": "markdown",
      "metadata": {
        "id": "xBDtLgXGzi7K",
        "colab_type": "text"
      },
      "source": [
        "## How does fine-tuning a model work?\n",
        "\n",
        "Usually the early layers in a neural network learn more general features, and the later ones are more specific to the task. If we leave those beginning layers alone (called \"freezing\" layers) and retrain the later ones, we can effectively repurpose the model."
      ]
    },
    {
      "cell_type": "markdown",
      "metadata": {
        "id": "AopJLSs121pm",
        "colab_type": "text"
      },
      "source": [
        "## Code example: Procedure of fine-tuning a model"
      ]
    },
    {
      "cell_type": "markdown",
      "metadata": {
        "id": "-yD1ooHf3rqK",
        "colab_type": "text"
      },
      "source": [
        "### 1. Get dataset and process data"
      ]
    },
    {
      "cell_type": "code",
      "metadata": {
        "id": "JWjprHEXJ5Qi",
        "colab_type": "code",
        "outputId": "f5934f9d-b82b-42c4-b2a9-e28832f24060",
        "colab": {
          "base_uri": "https://localhost:8080/",
          "height": 204
        }
      },
      "source": [
        "!wget --no-check-certificate \\\n",
        "    https://storage.googleapis.com/mledu-datasets/cats_and_dogs_filtered.zip \\\n",
        "    -O /tmp/cats_and_dogs_filtered.zip"
      ],
      "execution_count": 0,
      "outputs": [
        {
          "output_type": "stream",
          "text": [
            "--2019-12-04 22:19:12--  https://storage.googleapis.com/mledu-datasets/cats_and_dogs_filtered.zip\n",
            "Resolving storage.googleapis.com (storage.googleapis.com)... 108.177.97.128, 2404:6800:4008:c07::80\n",
            "Connecting to storage.googleapis.com (storage.googleapis.com)|108.177.97.128|:443... connected.\n",
            "HTTP request sent, awaiting response... 200 OK\n",
            "Length: 68606236 (65M) [application/zip]\n",
            "Saving to: ‘/tmp/cats_and_dogs_filtered.zip’\n",
            "\n",
            "/tmp/cats_and_dogs_ 100%[===================>]  65.43M  51.7MB/s    in 1.3s    \n",
            "\n",
            "2019-12-04 22:19:15 (51.7 MB/s) - ‘/tmp/cats_and_dogs_filtered.zip’ saved [68606236/68606236]\n",
            "\n"
          ],
          "name": "stdout"
        }
      ]
    },
    {
      "cell_type": "code",
      "metadata": {
        "id": "WvoHtdA-K6Rw",
        "colab_type": "code",
        "colab": {}
      },
      "source": [
        "# unzip data\n",
        "local_zip = '/tmp/cats_and_dogs_filtered.zip'\n",
        "zip_ref = zipfile.ZipFile(local_zip, 'r')\n",
        "zip_ref.extractall('/tmp')\n",
        "zip_ref.close()"
      ],
      "execution_count": 0,
      "outputs": []
    },
    {
      "cell_type": "code",
      "metadata": {
        "id": "dL8ikM89LlsH",
        "colab_type": "code",
        "colab": {}
      },
      "source": [
        "base_dir = '/tmp/cats_and_dogs_filtered'\n",
        "train_dir = os.path.join(base_dir, 'train')\n",
        "validation_dir = os.path.join(base_dir, 'validation')\n",
        "\n",
        "# training cat pictures\n",
        "train_cats_dir = os.path.join(train_dir, 'cats')\n",
        "\n",
        "# training dog pictures\n",
        "train_dogs_dir = os.path.join(train_dir, 'dogs')\n",
        "\n",
        "# validation cat pictures\n",
        "validation_cats_dir = os.path.join(validation_dir, 'cats')\n",
        "\n",
        "# validation dog pictures\n",
        "validation_dogs_dir = os.path.join(validation_dir, 'dogs')"
      ],
      "execution_count": 0,
      "outputs": []
    },
    {
      "cell_type": "markdown",
      "metadata": {
        "id": "bI02559H4uHP",
        "colab_type": "text"
      },
      "source": [
        "### 2. Load the pre-trained model"
      ]
    },
    {
      "cell_type": "code",
      "metadata": {
        "id": "Y0FgtANCXm_H",
        "colab_type": "code",
        "outputId": "2b29ec72-6210-4b63-b1de-ccaa6d4750f3",
        "colab": {
          "base_uri": "https://localhost:8080/",
          "height": 411
        }
      },
      "source": [
        "from keras.applications import VGG16\n",
        "\n",
        "conv_base = VGG16(\n",
        "    weights='imagenet', \n",
        "    include_top=False, \n",
        "    input_shape=(150, 150, 3))"
      ],
      "execution_count": 0,
      "outputs": [
        {
          "output_type": "stream",
          "text": [
            "WARNING:tensorflow:From /usr/local/lib/python3.6/dist-packages/keras/backend/tensorflow_backend.py:66: The name tf.get_default_graph is deprecated. Please use tf.compat.v1.get_default_graph instead.\n",
            "\n",
            "WARNING:tensorflow:From /usr/local/lib/python3.6/dist-packages/keras/backend/tensorflow_backend.py:541: The name tf.placeholder is deprecated. Please use tf.compat.v1.placeholder instead.\n",
            "\n",
            "WARNING:tensorflow:From /usr/local/lib/python3.6/dist-packages/keras/backend/tensorflow_backend.py:4432: The name tf.random_uniform is deprecated. Please use tf.random.uniform instead.\n",
            "\n",
            "WARNING:tensorflow:From /usr/local/lib/python3.6/dist-packages/keras/backend/tensorflow_backend.py:4267: The name tf.nn.max_pool is deprecated. Please use tf.nn.max_pool2d instead.\n",
            "\n",
            "Downloading data from https://github.com/fchollet/deep-learning-models/releases/download/v0.1/vgg16_weights_tf_dim_ordering_tf_kernels_notop.h5\n",
            "58892288/58889256 [==============================] - 5s 0us/step\n",
            "WARNING:tensorflow:From /usr/local/lib/python3.6/dist-packages/keras/backend/tensorflow_backend.py:190: The name tf.get_default_session is deprecated. Please use tf.compat.v1.get_default_session instead.\n",
            "\n",
            "WARNING:tensorflow:From /usr/local/lib/python3.6/dist-packages/keras/backend/tensorflow_backend.py:197: The name tf.ConfigProto is deprecated. Please use tf.compat.v1.ConfigProto instead.\n",
            "\n",
            "WARNING:tensorflow:From /usr/local/lib/python3.6/dist-packages/keras/backend/tensorflow_backend.py:203: The name tf.Session is deprecated. Please use tf.compat.v1.Session instead.\n",
            "\n",
            "WARNING:tensorflow:From /usr/local/lib/python3.6/dist-packages/keras/backend/tensorflow_backend.py:207: The name tf.global_variables is deprecated. Please use tf.compat.v1.global_variables instead.\n",
            "\n",
            "WARNING:tensorflow:From /usr/local/lib/python3.6/dist-packages/keras/backend/tensorflow_backend.py:216: The name tf.is_variable_initialized is deprecated. Please use tf.compat.v1.is_variable_initialized instead.\n",
            "\n",
            "WARNING:tensorflow:From /usr/local/lib/python3.6/dist-packages/keras/backend/tensorflow_backend.py:223: The name tf.variables_initializer is deprecated. Please use tf.compat.v1.variables_initializer instead.\n",
            "\n"
          ],
          "name": "stdout"
        }
      ]
    },
    {
      "cell_type": "markdown",
      "metadata": {
        "id": "BPyN6CPY6ZtH",
        "colab_type": "text"
      },
      "source": [
        "### 3. Freeze the convolution base"
      ]
    },
    {
      "cell_type": "code",
      "metadata": {
        "id": "UleRo4Dpq6Ld",
        "colab_type": "code",
        "colab": {}
      },
      "source": [
        "conv_base.trainable = False"
      ],
      "execution_count": 0,
      "outputs": []
    },
    {
      "cell_type": "markdown",
      "metadata": {
        "id": "0RHu2mr-7Bxo",
        "colab_type": "text"
      },
      "source": [
        "### 4. Concatenate the model with our dense layers"
      ]
    },
    {
      "cell_type": "code",
      "metadata": {
        "id": "qUpmocDAO3xm",
        "colab_type": "code",
        "outputId": "a300d089-a815-43f4-8077-60269fc5394f",
        "colab": {
          "base_uri": "https://localhost:8080/",
          "height": 122
        }
      },
      "source": [
        "model = models.Sequential()\n",
        "model.add(conv_base)\n",
        "model.add(layers.Flatten())\n",
        "model.add(layers.Dense(256, activation='relu'))\n",
        "model.add(layers.Dropout(0.1))\n",
        "model.add(layers.Dense(1, activation='sigmoid'))"
      ],
      "execution_count": 0,
      "outputs": [
        {
          "output_type": "stream",
          "text": [
            "WARNING:tensorflow:From /usr/local/lib/python3.6/dist-packages/keras/backend/tensorflow_backend.py:148: The name tf.placeholder_with_default is deprecated. Please use tf.compat.v1.placeholder_with_default instead.\n",
            "\n",
            "WARNING:tensorflow:From /usr/local/lib/python3.6/dist-packages/keras/backend/tensorflow_backend.py:3733: calling dropout (from tensorflow.python.ops.nn_ops) with keep_prob is deprecated and will be removed in a future version.\n",
            "Instructions for updating:\n",
            "Please use `rate` instead of `keep_prob`. Rate should be set to `rate = 1 - keep_prob`.\n"
          ],
          "name": "stdout"
        }
      ]
    },
    {
      "cell_type": "code",
      "metadata": {
        "id": "Fh6gZSeAjF7c",
        "colab_type": "code",
        "outputId": "0c23dba0-cac8-4e66-e889-14586ca5e44e",
        "colab": {
          "base_uri": "https://localhost:8080/",
          "height": 323
        }
      },
      "source": [
        "model.summary()"
      ],
      "execution_count": 0,
      "outputs": [
        {
          "output_type": "stream",
          "text": [
            "Model: \"sequential_1\"\n",
            "_________________________________________________________________\n",
            "Layer (type)                 Output Shape              Param #   \n",
            "=================================================================\n",
            "vgg16 (Model)                (None, 4, 4, 512)         14714688  \n",
            "_________________________________________________________________\n",
            "flatten_1 (Flatten)          (None, 8192)              0         \n",
            "_________________________________________________________________\n",
            "dense_1 (Dense)              (None, 256)               2097408   \n",
            "_________________________________________________________________\n",
            "dropout_1 (Dropout)          (None, 256)               0         \n",
            "_________________________________________________________________\n",
            "dense_2 (Dense)              (None, 1)                 257       \n",
            "=================================================================\n",
            "Total params: 16,812,353\n",
            "Trainable params: 2,097,665\n",
            "Non-trainable params: 14,714,688\n",
            "_________________________________________________________________\n"
          ],
          "name": "stdout"
        }
      ]
    },
    {
      "cell_type": "markdown",
      "metadata": {
        "id": "w-xq7sIY7lvy",
        "colab_type": "text"
      },
      "source": [
        "### 5. Train the model with frozen convolutional base"
      ]
    },
    {
      "cell_type": "code",
      "metadata": {
        "id": "tfAQlC2Oi41L",
        "colab_type": "code",
        "outputId": "2b7be995-e56e-490b-bdfa-453eac265295",
        "colab": {
          "base_uri": "https://localhost:8080/",
          "height": 1000
        }
      },
      "source": [
        "# data augmentation\n",
        "\n",
        "train_datagen = ImageDataGenerator(\n",
        "    rescale=1./255, \n",
        "    rotation_range=40,\n",
        "    width_shift_range=0.2,\n",
        "    height_shift_range=0.2,\n",
        "    shear_range=0.2,\n",
        "    zoom_range=0.2,\n",
        "    horizontal_flip=True,\n",
        "    fill_mode='nearest'\n",
        ")\n",
        "\n",
        "train_generator = train_datagen.flow_from_directory(\n",
        "    train_dir,\n",
        "    target_size=(150, 150),\n",
        "    batch_size=20,\n",
        "    class_mode='binary')\n",
        "\n",
        "validation_datagen = ImageDataGenerator(rescale=1./255)\n",
        "\n",
        "validation_generator = validation_datagen.flow_from_directory(\n",
        "    validation_dir,\n",
        "    target_size=(150, 150),\n",
        "    batch_size=20,\n",
        "    class_mode='binary')\n",
        "\n",
        "# compile model\n",
        "\n",
        "model.compile(\n",
        "    loss='binary_crossentropy', \n",
        "    optimizer=optimizers.RMSprop(lr=2e-5), \n",
        "    metrics=['acc'])\n",
        "\n",
        "# train\n",
        "\n",
        "history = model.fit_generator(\n",
        "    train_generator,\n",
        "    steps_per_epoch=100,\n",
        "    epochs=30,\n",
        "    validation_data=validation_generator,\n",
        "    validation_steps=50\n",
        ")"
      ],
      "execution_count": 0,
      "outputs": [
        {
          "output_type": "stream",
          "text": [
            "Found 2000 images belonging to 2 classes.\n",
            "Found 1000 images belonging to 2 classes.\n",
            "WARNING:tensorflow:From /usr/local/lib/python3.6/dist-packages/keras/optimizers.py:793: The name tf.train.Optimizer is deprecated. Please use tf.compat.v1.train.Optimizer instead.\n",
            "\n",
            "WARNING:tensorflow:From /usr/local/lib/python3.6/dist-packages/keras/backend/tensorflow_backend.py:3657: The name tf.log is deprecated. Please use tf.math.log instead.\n",
            "\n",
            "WARNING:tensorflow:From /usr/local/lib/python3.6/dist-packages/tensorflow_core/python/ops/nn_impl.py:183: where (from tensorflow.python.ops.array_ops) is deprecated and will be removed in a future version.\n",
            "Instructions for updating:\n",
            "Use tf.where in 2.0, which has the same broadcast rule as np.where\n",
            "WARNING:tensorflow:From /usr/local/lib/python3.6/dist-packages/keras/backend/tensorflow_backend.py:1033: The name tf.assign_add is deprecated. Please use tf.compat.v1.assign_add instead.\n",
            "\n",
            "WARNING:tensorflow:From /usr/local/lib/python3.6/dist-packages/keras/backend/tensorflow_backend.py:1020: The name tf.assign is deprecated. Please use tf.compat.v1.assign instead.\n",
            "\n",
            "Epoch 1/30\n",
            "100/100 [==============================] - 21s 213ms/step - loss: 0.6091 - acc: 0.6520 - val_loss: 0.4454 - val_acc: 0.8180\n",
            "Epoch 2/30\n",
            "100/100 [==============================] - 17s 170ms/step - loss: 0.5062 - acc: 0.7545 - val_loss: 0.3743 - val_acc: 0.8480\n",
            "Epoch 3/30\n",
            "100/100 [==============================] - 17s 171ms/step - loss: 0.4410 - acc: 0.7975 - val_loss: 0.3391 - val_acc: 0.8590\n",
            "Epoch 4/30\n",
            "100/100 [==============================] - 17s 165ms/step - loss: 0.4050 - acc: 0.8140 - val_loss: 0.3195 - val_acc: 0.8600\n",
            "Epoch 5/30\n",
            "100/100 [==============================] - 17s 165ms/step - loss: 0.3866 - acc: 0.8365 - val_loss: 0.3103 - val_acc: 0.8660\n",
            "Epoch 6/30\n",
            "100/100 [==============================] - 17s 167ms/step - loss: 0.3804 - acc: 0.8270 - val_loss: 0.2935 - val_acc: 0.8720\n",
            "Epoch 7/30\n",
            "100/100 [==============================] - 17s 166ms/step - loss: 0.3716 - acc: 0.8405 - val_loss: 0.2831 - val_acc: 0.8780\n",
            "Epoch 8/30\n",
            "100/100 [==============================] - 17s 168ms/step - loss: 0.3560 - acc: 0.8430 - val_loss: 0.2799 - val_acc: 0.8800\n",
            "Epoch 9/30\n",
            "100/100 [==============================] - 16s 165ms/step - loss: 0.3443 - acc: 0.8425 - val_loss: 0.2764 - val_acc: 0.8830\n",
            "Epoch 10/30\n",
            "100/100 [==============================] - 16s 164ms/step - loss: 0.3366 - acc: 0.8445 - val_loss: 0.2893 - val_acc: 0.8760\n",
            "Epoch 11/30\n",
            "100/100 [==============================] - 17s 165ms/step - loss: 0.3451 - acc: 0.8455 - val_loss: 0.2786 - val_acc: 0.8800\n",
            "Epoch 12/30\n",
            "100/100 [==============================] - 17s 166ms/step - loss: 0.3370 - acc: 0.8485 - val_loss: 0.2696 - val_acc: 0.8850\n",
            "Epoch 13/30\n",
            "100/100 [==============================] - 17s 166ms/step - loss: 0.3341 - acc: 0.8460 - val_loss: 0.2684 - val_acc: 0.8880\n",
            "Epoch 14/30\n",
            "100/100 [==============================] - 17s 166ms/step - loss: 0.3290 - acc: 0.8585 - val_loss: 0.2639 - val_acc: 0.8840\n",
            "Epoch 15/30\n",
            "100/100 [==============================] - 17s 168ms/step - loss: 0.3320 - acc: 0.8530 - val_loss: 0.2577 - val_acc: 0.8870\n",
            "Epoch 16/30\n",
            "100/100 [==============================] - 17s 169ms/step - loss: 0.3197 - acc: 0.8605 - val_loss: 0.2612 - val_acc: 0.8860\n",
            "Epoch 17/30\n",
            "100/100 [==============================] - 17s 166ms/step - loss: 0.3202 - acc: 0.8585 - val_loss: 0.2577 - val_acc: 0.8850\n",
            "Epoch 18/30\n",
            "100/100 [==============================] - 16s 164ms/step - loss: 0.2999 - acc: 0.8730 - val_loss: 0.2543 - val_acc: 0.8920\n",
            "Epoch 19/30\n",
            "100/100 [==============================] - 17s 167ms/step - loss: 0.3196 - acc: 0.8630 - val_loss: 0.2581 - val_acc: 0.8900\n",
            "Epoch 20/30\n",
            "100/100 [==============================] - 17s 167ms/step - loss: 0.3133 - acc: 0.8680 - val_loss: 0.2598 - val_acc: 0.8880\n",
            "Epoch 21/30\n",
            "100/100 [==============================] - 17s 167ms/step - loss: 0.3034 - acc: 0.8615 - val_loss: 0.2640 - val_acc: 0.8890\n",
            "Epoch 22/30\n",
            "100/100 [==============================] - 17s 167ms/step - loss: 0.3069 - acc: 0.8675 - val_loss: 0.2522 - val_acc: 0.8870\n",
            "Epoch 23/30\n",
            "100/100 [==============================] - 17s 169ms/step - loss: 0.3008 - acc: 0.8680 - val_loss: 0.2514 - val_acc: 0.8900\n",
            "Epoch 24/30\n",
            "100/100 [==============================] - 17s 168ms/step - loss: 0.3159 - acc: 0.8600 - val_loss: 0.2481 - val_acc: 0.8980\n",
            "Epoch 25/30\n",
            "100/100 [==============================] - 17s 166ms/step - loss: 0.3015 - acc: 0.8685 - val_loss: 0.2502 - val_acc: 0.8930\n",
            "Epoch 26/30\n",
            "100/100 [==============================] - 17s 166ms/step - loss: 0.2964 - acc: 0.8675 - val_loss: 0.2625 - val_acc: 0.8820\n",
            "Epoch 27/30\n",
            "100/100 [==============================] - 17s 168ms/step - loss: 0.2972 - acc: 0.8695 - val_loss: 0.2507 - val_acc: 0.8940\n",
            "Epoch 28/30\n",
            "100/100 [==============================] - 17s 165ms/step - loss: 0.2944 - acc: 0.8730 - val_loss: 0.2499 - val_acc: 0.8940\n",
            "Epoch 29/30\n",
            "100/100 [==============================] - 17s 169ms/step - loss: 0.3023 - acc: 0.8675 - val_loss: 0.2674 - val_acc: 0.8910\n",
            "Epoch 30/30\n",
            "100/100 [==============================] - 17s 169ms/step - loss: 0.2881 - acc: 0.8685 - val_loss: 0.2497 - val_acc: 0.8940\n"
          ],
          "name": "stdout"
        }
      ]
    },
    {
      "cell_type": "markdown",
      "metadata": {
        "id": "bVzV1CnR8IMv",
        "colab_type": "text"
      },
      "source": [
        "### 6. Evaluate results of training"
      ]
    },
    {
      "cell_type": "code",
      "metadata": {
        "id": "ybWwdzz9bwuQ",
        "colab_type": "code",
        "outputId": "21b70fdc-d770-4248-a01a-0d3bccb8f946",
        "colab": {
          "base_uri": "https://localhost:8080/",
          "height": 545
        }
      },
      "source": [
        "acc = history.history['acc']\n",
        "val_acc = history.history['val_acc']\n",
        "\n",
        "loss = history.history['loss']\n",
        "val_loss = history.history['val_loss']\n",
        "\n",
        "epochs = range(1, len(acc) + 1)\n",
        "\n",
        "# training and validation accuracy\n",
        "\n",
        "plt.plot(epochs, acc, 'bo', label='training acc')\n",
        "plt.plot(epochs, val_acc, 'b', label='validation acc')\n",
        "plt.title('training and validation accuracy')\n",
        "plt.legend()\n",
        "\n",
        "plt.figure()\n",
        "\n",
        "# training and validation loss\n",
        "\n",
        "plt.plot(epochs, loss, 'bo', label='training loss')\n",
        "plt.plot(epochs, val_loss, 'b', label='validation loss')\n",
        "plt.title('training and validation loss')\n",
        "plt.legend()\n",
        "\n",
        "plt.show()"
      ],
      "execution_count": 0,
      "outputs": [
        {
          "output_type": "display_data",
          "data": {
            "image/png": "[encoded data removed]",
            "text/plain": [
              "<Figure size 432x288 with 1 Axes>"
            ]
          },
          "metadata": {
            "tags": []
          }
        },
        {
          "output_type": "display_data",
          "data": {
            "image/png": "[encoded data removed]",
            "text/plain": [
              "<Figure size 432x288 with 1 Axes>"
            ]
          },
          "metadata": {
            "tags": []
          }
        }
      ]
    },
    {
      "cell_type": "markdown",
      "metadata": {
        "id": "3pa6GYhm8U8F",
        "colab_type": "text"
      },
      "source": [
        "### 7. Fine-tune as desired"
      ]
    },
    {
      "cell_type": "code",
      "metadata": {
        "id": "PwkVMx8N8qMw",
        "colab_type": "code",
        "colab": {}
      },
      "source": [
        "# unfreeze convolutional base\n",
        "conv_base.trainable = True\n",
        "\n",
        "set_trainable = False\n",
        "for layer in conv_base.layers:\n",
        "  if layer.name == 'block5_conv1':\n",
        "    set_trainable = True\n",
        "  if set_trainable:\n",
        "    layer.trainable = True\n",
        "  else:\n",
        "    layer.trainable = False"
      ],
      "execution_count": 0,
      "outputs": []
    },
    {
      "cell_type": "code",
      "metadata": {
        "id": "DyN-J7rs9cvo",
        "colab_type": "code",
        "outputId": "45edc121-1766-460d-d955-97e0638d96fc",
        "colab": {
          "base_uri": "https://localhost:8080/",
          "height": 374
        }
      },
      "source": [
        "# compile model\n",
        "\n",
        "model.compile(\n",
        "    loss='binary_crossentropy',\n",
        "    optimizer=optimizers.RMSprop(lr=1e-6), \n",
        "    metrics=['acc'])\n",
        "\n",
        "# train\n",
        "\n",
        "history = model.fit_generator(\n",
        "    train_generator,\n",
        "    steps_per_epoch=100,\n",
        "    epochs=50,\n",
        "    validation_data=validation_generator,\n",
        "    validation_steps=50)"
      ],
      "execution_count": 15,
      "outputs": [
        {
          "output_type": "stream",
          "text": [
            "Epoch 1/50\n",
            " 22/100 [=====>........................] - ETA: 13s - loss: 0.1105 - acc: 0.9500"
          ],
          "name": "stdout"
        },
        {
          "output_type": "error",
          "ename": "KeyboardInterrupt",
          "evalue": "ignored",
          "traceback": [
            "\u001b[0;31m---------------------------------------------------------------------------\u001b[0m",
            "\u001b[0;31mKeyboardInterrupt\u001b[0m                         Traceback (most recent call last)",
            "\u001b[0;32m<ipython-input-15-33e68885df73>\u001b[0m in \u001b[0;36m<module>\u001b[0;34m()\u001b[0m\n\u001b[1;32m     12\u001b[0m     \u001b[0mepochs\u001b[0m\u001b[0;34m=\u001b[0m\u001b[0;36m50\u001b[0m\u001b[0;34m,\u001b[0m\u001b[0;34m\u001b[0m\u001b[0;34m\u001b[0m\u001b[0m\n\u001b[1;32m     13\u001b[0m     \u001b[0mvalidation_data\u001b[0m\u001b[0;34m=\u001b[0m\u001b[0mvalidation_generator\u001b[0m\u001b[0;34m,\u001b[0m\u001b[0;34m\u001b[0m\u001b[0;34m\u001b[0m\u001b[0m\n\u001b[0;32m---> 14\u001b[0;31m     validation_steps=50)\n\u001b[0m",
            "\u001b[0;32m/usr/local/lib/python3.6/dist-packages/keras/legacy/interfaces.py\u001b[0m in \u001b[0;36mwrapper\u001b[0;34m(*args, **kwargs)\u001b[0m\n\u001b[1;32m     89\u001b[0m                 warnings.warn('Update your `' + object_name + '` call to the ' +\n\u001b[1;32m     90\u001b[0m                               'Keras 2 API: ' + signature, stacklevel=2)\n\u001b[0;32m---> 91\u001b[0;31m             \u001b[0;32mreturn\u001b[0m \u001b[0mfunc\u001b[0m\u001b[0;34m(\u001b[0m\u001b[0;34m*\u001b[0m\u001b[0margs\u001b[0m\u001b[0;34m,\u001b[0m \u001b[0;34m**\u001b[0m\u001b[0mkwargs\u001b[0m\u001b[0;34m)\u001b[0m\u001b[0;34m\u001b[0m\u001b[0;34m\u001b[0m\u001b[0m\n\u001b[0m\u001b[1;32m     92\u001b[0m         \u001b[0mwrapper\u001b[0m\u001b[0;34m.\u001b[0m\u001b[0m_original_function\u001b[0m \u001b[0;34m=\u001b[0m \u001b[0mfunc\u001b[0m\u001b[0;34m\u001b[0m\u001b[0;34m\u001b[0m\u001b[0m\n\u001b[1;32m     93\u001b[0m         \u001b[0;32mreturn\u001b[0m \u001b[0mwrapper\u001b[0m\u001b[0;34m\u001b[0m\u001b[0;34m\u001b[0m\u001b[0m\n",
            "\u001b[0;32m/usr/local/lib/python3.6/dist-packages/keras/engine/training.py\u001b[0m in \u001b[0;36mfit_generator\u001b[0;34m(self, generator, steps_per_epoch, epochs, verbose, callbacks, validation_data, validation_steps, validation_freq, class_weight, max_queue_size, workers, use_multiprocessing, shuffle, initial_epoch)\u001b[0m\n\u001b[1;32m   1656\u001b[0m             \u001b[0muse_multiprocessing\u001b[0m\u001b[0;34m=\u001b[0m\u001b[0muse_multiprocessing\u001b[0m\u001b[0;34m,\u001b[0m\u001b[0;34m\u001b[0m\u001b[0;34m\u001b[0m\u001b[0m\n\u001b[1;32m   1657\u001b[0m             \u001b[0mshuffle\u001b[0m\u001b[0;34m=\u001b[0m\u001b[0mshuffle\u001b[0m\u001b[0;34m,\u001b[0m\u001b[0;34m\u001b[0m\u001b[0;34m\u001b[0m\u001b[0m\n\u001b[0;32m-> 1658\u001b[0;31m             initial_epoch=initial_epoch)\n\u001b[0m\u001b[1;32m   1659\u001b[0m \u001b[0;34m\u001b[0m\u001b[0m\n\u001b[1;32m   1660\u001b[0m     \u001b[0;34m@\u001b[0m\u001b[0minterfaces\u001b[0m\u001b[0;34m.\u001b[0m\u001b[0mlegacy_generator_methods_support\u001b[0m\u001b[0;34m\u001b[0m\u001b[0;34m\u001b[0m\u001b[0m\n",
            "\u001b[0;32m/usr/local/lib/python3.6/dist-packages/keras/engine/training_generator.py\u001b[0m in \u001b[0;36mfit_generator\u001b[0;34m(model, generator, steps_per_epoch, epochs, verbose, callbacks, validation_data, validation_steps, validation_freq, class_weight, max_queue_size, workers, use_multiprocessing, shuffle, initial_epoch)\u001b[0m\n\u001b[1;32m    179\u001b[0m             \u001b[0mbatch_index\u001b[0m \u001b[0;34m=\u001b[0m \u001b[0;36m0\u001b[0m\u001b[0;34m\u001b[0m\u001b[0;34m\u001b[0m\u001b[0m\n\u001b[1;32m    180\u001b[0m             \u001b[0;32mwhile\u001b[0m \u001b[0msteps_done\u001b[0m \u001b[0;34m<\u001b[0m \u001b[0msteps_per_epoch\u001b[0m\u001b[0;34m:\u001b[0m\u001b[0;34m\u001b[0m\u001b[0;34m\u001b[0m\u001b[0m\n\u001b[0;32m--> 181\u001b[0;31m                 \u001b[0mgenerator_output\u001b[0m \u001b[0;34m=\u001b[0m \u001b[0mnext\u001b[0m\u001b[0;34m(\u001b[0m\u001b[0moutput_generator\u001b[0m\u001b[0;34m)\u001b[0m\u001b[0;34m\u001b[0m\u001b[0;34m\u001b[0m\u001b[0m\n\u001b[0m\u001b[1;32m    182\u001b[0m \u001b[0;34m\u001b[0m\u001b[0m\n\u001b[1;32m    183\u001b[0m                 \u001b[0;32mif\u001b[0m \u001b[0;32mnot\u001b[0m \u001b[0mhasattr\u001b[0m\u001b[0;34m(\u001b[0m\u001b[0mgenerator_output\u001b[0m\u001b[0;34m,\u001b[0m \u001b[0;34m'__len__'\u001b[0m\u001b[0;34m)\u001b[0m\u001b[0;34m:\u001b[0m\u001b[0;34m\u001b[0m\u001b[0;34m\u001b[0m\u001b[0m\n",
            "\u001b[0;32m/usr/local/lib/python3.6/dist-packages/keras/utils/data_utils.py\u001b[0m in \u001b[0;36mget\u001b[0;34m(self)\u001b[0m\n\u001b[1;32m    601\u001b[0m                 \u001b[0;32mtry\u001b[0m\u001b[0;34m:\u001b[0m\u001b[0;34m\u001b[0m\u001b[0;34m\u001b[0m\u001b[0m\n\u001b[1;32m    602\u001b[0m                     \u001b[0mfuture\u001b[0m \u001b[0;34m=\u001b[0m \u001b[0mself\u001b[0m\u001b[0;34m.\u001b[0m\u001b[0mqueue\u001b[0m\u001b[0;34m.\u001b[0m\u001b[0mget\u001b[0m\u001b[0;34m(\u001b[0m\u001b[0mblock\u001b[0m\u001b[0;34m=\u001b[0m\u001b[0;32mTrue\u001b[0m\u001b[0;34m)\u001b[0m\u001b[0;34m\u001b[0m\u001b[0;34m\u001b[0m\u001b[0m\n\u001b[0;32m--> 603\u001b[0;31m                     \u001b[0minputs\u001b[0m \u001b[0;34m=\u001b[0m \u001b[0mfuture\u001b[0m\u001b[0;34m.\u001b[0m\u001b[0mget\u001b[0m\u001b[0;34m(\u001b[0m\u001b[0mtimeout\u001b[0m\u001b[0;34m=\u001b[0m\u001b[0;36m30\u001b[0m\u001b[0;34m)\u001b[0m\u001b[0;34m\u001b[0m\u001b[0;34m\u001b[0m\u001b[0m\n\u001b[0m\u001b[1;32m    604\u001b[0m                     \u001b[0mself\u001b[0m\u001b[0;34m.\u001b[0m\u001b[0mqueue\u001b[0m\u001b[0;34m.\u001b[0m\u001b[0mtask_done\u001b[0m\u001b[0;34m(\u001b[0m\u001b[0;34m)\u001b[0m\u001b[0;34m\u001b[0m\u001b[0;34m\u001b[0m\u001b[0m\n\u001b[1;32m    605\u001b[0m                 \u001b[0;32mexcept\u001b[0m \u001b[0mmp\u001b[0m\u001b[0;34m.\u001b[0m\u001b[0mTimeoutError\u001b[0m\u001b[0;34m:\u001b[0m\u001b[0;34m\u001b[0m\u001b[0;34m\u001b[0m\u001b[0m\n",
            "\u001b[0;32m/usr/lib/python3.6/multiprocessing/pool.py\u001b[0m in \u001b[0;36mget\u001b[0;34m(self, timeout)\u001b[0m\n\u001b[1;32m    636\u001b[0m \u001b[0;34m\u001b[0m\u001b[0m\n\u001b[1;32m    637\u001b[0m     \u001b[0;32mdef\u001b[0m \u001b[0mget\u001b[0m\u001b[0;34m(\u001b[0m\u001b[0mself\u001b[0m\u001b[0;34m,\u001b[0m \u001b[0mtimeout\u001b[0m\u001b[0;34m=\u001b[0m\u001b[0;32mNone\u001b[0m\u001b[0;34m)\u001b[0m\u001b[0;34m:\u001b[0m\u001b[0;34m\u001b[0m\u001b[0;34m\u001b[0m\u001b[0m\n\u001b[0;32m--> 638\u001b[0;31m         \u001b[0mself\u001b[0m\u001b[0;34m.\u001b[0m\u001b[0mwait\u001b[0m\u001b[0;34m(\u001b[0m\u001b[0mtimeout\u001b[0m\u001b[0;34m)\u001b[0m\u001b[0;34m\u001b[0m\u001b[0;34m\u001b[0m\u001b[0m\n\u001b[0m\u001b[1;32m    639\u001b[0m         \u001b[0;32mif\u001b[0m \u001b[0;32mnot\u001b[0m \u001b[0mself\u001b[0m\u001b[0;34m.\u001b[0m\u001b[0mready\u001b[0m\u001b[0;34m(\u001b[0m\u001b[0;34m)\u001b[0m\u001b[0;34m:\u001b[0m\u001b[0;34m\u001b[0m\u001b[0;34m\u001b[0m\u001b[0m\n\u001b[1;32m    640\u001b[0m             \u001b[0;32mraise\u001b[0m \u001b[0mTimeoutError\u001b[0m\u001b[0;34m\u001b[0m\u001b[0;34m\u001b[0m\u001b[0m\n",
            "\u001b[0;32m/usr/lib/python3.6/multiprocessing/pool.py\u001b[0m in \u001b[0;36mwait\u001b[0;34m(self, timeout)\u001b[0m\n\u001b[1;32m    633\u001b[0m \u001b[0;34m\u001b[0m\u001b[0m\n\u001b[1;32m    634\u001b[0m     \u001b[0;32mdef\u001b[0m \u001b[0mwait\u001b[0m\u001b[0;34m(\u001b[0m\u001b[0mself\u001b[0m\u001b[0;34m,\u001b[0m \u001b[0mtimeout\u001b[0m\u001b[0;34m=\u001b[0m\u001b[0;32mNone\u001b[0m\u001b[0;34m)\u001b[0m\u001b[0;34m:\u001b[0m\u001b[0;34m\u001b[0m\u001b[0;34m\u001b[0m\u001b[0m\n\u001b[0;32m--> 635\u001b[0;31m         \u001b[0mself\u001b[0m\u001b[0;34m.\u001b[0m\u001b[0m_event\u001b[0m\u001b[0;34m.\u001b[0m\u001b[0mwait\u001b[0m\u001b[0;34m(\u001b[0m\u001b[0mtimeout\u001b[0m\u001b[0;34m)\u001b[0m\u001b[0;34m\u001b[0m\u001b[0;34m\u001b[0m\u001b[0m\n\u001b[0m\u001b[1;32m    636\u001b[0m \u001b[0;34m\u001b[0m\u001b[0m\n\u001b[1;32m    637\u001b[0m     \u001b[0;32mdef\u001b[0m \u001b[0mget\u001b[0m\u001b[0;34m(\u001b[0m\u001b[0mself\u001b[0m\u001b[0;34m,\u001b[0m \u001b[0mtimeout\u001b[0m\u001b[0;34m=\u001b[0m\u001b[0;32mNone\u001b[0m\u001b[0;34m)\u001b[0m\u001b[0;34m:\u001b[0m\u001b[0;34m\u001b[0m\u001b[0;34m\u001b[0m\u001b[0m\n",
            "\u001b[0;32m/usr/lib/python3.6/threading.py\u001b[0m in \u001b[0;36mwait\u001b[0;34m(self, timeout)\u001b[0m\n\u001b[1;32m    549\u001b[0m             \u001b[0msignaled\u001b[0m \u001b[0;34m=\u001b[0m \u001b[0mself\u001b[0m\u001b[0;34m.\u001b[0m\u001b[0m_flag\u001b[0m\u001b[0;34m\u001b[0m\u001b[0;34m\u001b[0m\u001b[0m\n\u001b[1;32m    550\u001b[0m             \u001b[0;32mif\u001b[0m \u001b[0;32mnot\u001b[0m \u001b[0msignaled\u001b[0m\u001b[0;34m:\u001b[0m\u001b[0;34m\u001b[0m\u001b[0;34m\u001b[0m\u001b[0m\n\u001b[0;32m--> 551\u001b[0;31m                 \u001b[0msignaled\u001b[0m \u001b[0;34m=\u001b[0m \u001b[0mself\u001b[0m\u001b[0;34m.\u001b[0m\u001b[0m_cond\u001b[0m\u001b[0;34m.\u001b[0m\u001b[0mwait\u001b[0m\u001b[0;34m(\u001b[0m\u001b[0mtimeout\u001b[0m\u001b[0;34m)\u001b[0m\u001b[0;34m\u001b[0m\u001b[0;34m\u001b[0m\u001b[0m\n\u001b[0m\u001b[1;32m    552\u001b[0m             \u001b[0;32mreturn\u001b[0m \u001b[0msignaled\u001b[0m\u001b[0;34m\u001b[0m\u001b[0;34m\u001b[0m\u001b[0m\n\u001b[1;32m    553\u001b[0m \u001b[0;34m\u001b[0m\u001b[0m\n",
            "\u001b[0;32m/usr/lib/python3.6/threading.py\u001b[0m in \u001b[0;36mwait\u001b[0;34m(self, timeout)\u001b[0m\n\u001b[1;32m    297\u001b[0m             \u001b[0;32melse\u001b[0m\u001b[0;34m:\u001b[0m\u001b[0;34m\u001b[0m\u001b[0;34m\u001b[0m\u001b[0m\n\u001b[1;32m    298\u001b[0m                 \u001b[0;32mif\u001b[0m \u001b[0mtimeout\u001b[0m \u001b[0;34m>\u001b[0m \u001b[0;36m0\u001b[0m\u001b[0;34m:\u001b[0m\u001b[0;34m\u001b[0m\u001b[0;34m\u001b[0m\u001b[0m\n\u001b[0;32m--> 299\u001b[0;31m                     \u001b[0mgotit\u001b[0m \u001b[0;34m=\u001b[0m \u001b[0mwaiter\u001b[0m\u001b[0;34m.\u001b[0m\u001b[0macquire\u001b[0m\u001b[0;34m(\u001b[0m\u001b[0;32mTrue\u001b[0m\u001b[0;34m,\u001b[0m \u001b[0mtimeout\u001b[0m\u001b[0;34m)\u001b[0m\u001b[0;34m\u001b[0m\u001b[0;34m\u001b[0m\u001b[0m\n\u001b[0m\u001b[1;32m    300\u001b[0m                 \u001b[0;32melse\u001b[0m\u001b[0;34m:\u001b[0m\u001b[0;34m\u001b[0m\u001b[0;34m\u001b[0m\u001b[0m\n\u001b[1;32m    301\u001b[0m                     \u001b[0mgotit\u001b[0m \u001b[0;34m=\u001b[0m \u001b[0mwaiter\u001b[0m\u001b[0;34m.\u001b[0m\u001b[0macquire\u001b[0m\u001b[0;34m(\u001b[0m\u001b[0;32mFalse\u001b[0m\u001b[0;34m)\u001b[0m\u001b[0;34m\u001b[0m\u001b[0;34m\u001b[0m\u001b[0m\n",
            "\u001b[0;31mKeyboardInterrupt\u001b[0m: "
          ]
        }
      ]
    },
    {
      "cell_type": "markdown",
      "metadata": {
        "id": "xM7Sb0zV9lQb",
        "colab_type": "text"
      },
      "source": [
        "### We can now see the results of our fine-tuning:"
      ]
    },
    {
      "cell_type": "code",
      "metadata": {
        "id": "mbkIw7Ie-NP4",
        "colab_type": "code",
        "outputId": "f98a8464-dc40-408d-952a-486faa4a2f86",
        "colab": {
          "base_uri": "https://localhost:8080/",
          "height": 545
        }
      },
      "source": [
        "acc = history.history['acc']\n",
        "val_acc = history.history['val_acc']\n",
        "\n",
        "loss = history.history['loss']\n",
        "val_loss = history.history['val_loss']\n",
        "\n",
        "epochs = range(1, len(acc) + 1)\n",
        "\n",
        "# training and validation accuracy\n",
        "\n",
        "plt.plot(epochs, acc, 'bo', label='training acc')\n",
        "plt.plot(epochs, val_acc, 'b', label='validation acc')\n",
        "plt.title('training and validation accuracy')\n",
        "plt.legend()\n",
        "\n",
        "plt.figure()\n",
        "\n",
        "# training and validation loss\n",
        "\n",
        "plt.plot(epochs, loss, 'bo', label='training loss')\n",
        "plt.plot(epochs, val_loss, 'b', label='validation loss')\n",
        "plt.title('training and validation loss')\n",
        "plt.legend()\n",
        "\n",
        "plt.show()"
      ],
      "execution_count": 0,
      "outputs": [
        {
          "output_type": "display_data",
          "data": {
            "image/png": "[encoded data removed]",
            "text/plain": [
              "<Figure size 432x288 with 1 Axes>"
            ]
          },
          "metadata": {
            "tags": []
          }
        },
        {
          "output_type": "display_data",
          "data": {
            "image/png": "[encoded data removed]",
            "text/plain": [
              "<Figure size 432x288 with 1 Axes>"
            ]
          },
          "metadata": {
            "tags": []
          }
        }
      ]
    }
  ]
}