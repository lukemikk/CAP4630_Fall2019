{
  "nbformat": 4,
  "nbformat_minor": 0,
  "metadata": {
    "colab": {
      "name": "LukeM_hw1-2.ipynb",
      "provenance": [],
      "collapsed_sections": []
    },
    "kernelspec": {
      "name": "python3",
      "display_name": "Python 3"
    }
  },
  "cells": [
    {
      "cell_type": "markdown",
      "metadata": {
        "id": "_0dDDBvYgy_e",
        "colab_type": "text"
      },
      "source": [
        "#Problem 2:"
      ]
    },
    {
      "cell_type": "code",
      "metadata": {
        "id": "l5rq92V7ObHs",
        "colab_type": "code",
        "colab": {}
      },
      "source": [
        "%matplotlib inline\n",
        "from mpl_toolkits import mplot3d\n",
        "import matplotlib as mpl\n",
        "import matplotlib.pyplot as plt\n",
        "mpl.rc('axes', labelsize=14)\n",
        "mpl.rc('xtick', labelsize=12)\n",
        "mpl.rc('ytick', labelsize=12)"
      ],
      "execution_count": 0,
      "outputs": []
    },
    {
      "cell_type": "markdown",
      "metadata": {
        "id": "jPyBgmDEm73V",
        "colab_type": "text"
      },
      "source": [
        "##Generating random test values"
      ]
    },
    {
      "cell_type": "code",
      "metadata": {
        "id": "B4VTPpXkOhds",
        "colab_type": "code",
        "colab": {}
      },
      "source": [
        "import numpy as np\n",
        "np.random.seed(32435)\n",
        "\n",
        "x1s = 2 * np.random.rand(100, 1)\n",
        "x2s = 2 * np.random.rand(100, 1)\n",
        "ys = 4 + 1.5 * (x1s + x2s + np.random.rand(100, 1))"
      ],
      "execution_count": 0,
      "outputs": []
    },
    {
      "cell_type": "markdown",
      "metadata": {
        "id": "lOiqDQd_m_c8",
        "colab_type": "text"
      },
      "source": [
        "##Plot x1 feature data"
      ]
    },
    {
      "cell_type": "code",
      "metadata": {
        "id": "PlhVE5hJSbsy",
        "colab_type": "code",
        "outputId": "2ecb4195-eeb1-41a7-8d1b-78288d438afd",
        "colab": {
          "base_uri": "https://localhost:8080/",
          "height": 294
        }
      },
      "source": [
        "plt.plot(x1s, ys, \"b.\")\n",
        "plt.xlabel(\"$x_1$\", fontsize=18)\n",
        "plt.ylabel(\"$y$\", rotation=0, fontsize=18)\n",
        "plt.axis([0, 2, 0, 15])\n",
        "plt.show()"
      ],
      "execution_count": 57,
      "outputs": [
        {
          "output_type": "display_data",
          "data": {
            "image/png": "[encoded data removed]",
            "text/plain": [
              "<Figure size 432x288 with 1 Axes>"
            ]
          },
          "metadata": {
            "tags": []
          }
        }
      ]
    },
    {
      "cell_type": "markdown",
      "metadata": {
        "id": "B1L2TRNEnQ0h",
        "colab_type": "text"
      },
      "source": [
        "##Plot x2 feature data"
      ]
    },
    {
      "cell_type": "code",
      "metadata": {
        "id": "d586_7RNnOrk",
        "colab_type": "code",
        "colab": {
          "base_uri": "https://localhost:8080/",
          "height": 294
        },
        "outputId": "cdbe3362-e896-491b-8928-13d5c09babc0"
      },
      "source": [
        "plt.plot(x2s, ys, \"b.\")\n",
        "plt.xlabel(\"$x_2$\", fontsize=18)\n",
        "plt.ylabel(\"$y$\", rotation=0, fontsize=18)\n",
        "plt.axis([0, 2, 0, 15])\n",
        "plt.show()"
      ],
      "execution_count": 58,
      "outputs": [
        {
          "output_type": "display_data",
          "data": {
            "image/png": "[encoded data removed]",
            "text/plain": [
              "<Figure size 432x288 with 1 Axes>"
            ]
          },
          "metadata": {
            "tags": []
          }
        }
      ]
    },
    {
      "cell_type": "markdown",
      "metadata": {
        "id": "U2NwAKi2ndhD",
        "colab_type": "text"
      },
      "source": [
        "#Split data into test and training sets"
      ]
    },
    {
      "cell_type": "code",
      "metadata": {
        "id": "9WIBehqmUXeM",
        "colab_type": "code",
        "colab": {}
      },
      "source": [
        "# train set\n",
        "train_x1s = x1s[:80]\n",
        "train_x2s = x2s[:80]\n",
        "train_ys = ys[:80]\n",
        "\n",
        "# test set\n",
        "test_x1s = x1s[80:]\n",
        "test_x2s = x1s[80:]\n",
        "test_ys = ys[80:]\n"
      ],
      "execution_count": 0,
      "outputs": []
    },
    {
      "cell_type": "markdown",
      "metadata": {
        "id": "wq5R9tfxOlK6",
        "colab_type": "text"
      },
      "source": [
        "##Linear regression using numpy\n"
      ]
    },
    {
      "cell_type": "code",
      "metadata": {
        "id": "V7S2Rljr4gBI",
        "colab_type": "code",
        "colab": {}
      },
      "source": [
        "# number of epochs\n",
        "epochs = 10\n",
        "\n",
        "# learning rate\n",
        "lr = 0.01"
      ],
      "execution_count": 0,
      "outputs": []
    },
    {
      "cell_type": "code",
      "metadata": {
        "id": "gpUiggnZ35PN",
        "colab_type": "code",
        "colab": {}
      },
      "source": [
        "# initial value for weights w1 and w2 and bias b\n",
        "w1 = np.random.randn(1)\n",
        "w2 = np.random.randn(1)\n",
        "b = np.zeros(1)"
      ],
      "execution_count": 0,
      "outputs": []
    },
    {
      "cell_type": "code",
      "metadata": {
        "id": "ia_EGxHl4WNT",
        "colab_type": "code",
        "colab": {}
      },
      "source": [
        "for epoch in np.arange(epochs):\n",
        "  for i in np.arange(80):\n",
        "    y_pred = w1 * train_x1s[i] + w2 * train_x2s[i] + b\n",
        "    \n",
        "    grad_w1 = (y_pred - train_ys[i]) * train_x1s[i]\n",
        "    grad_w2 = (y_pred - train_ys[i]) * train_x2s[i]\n",
        "    grad_b = (y_pred - train_ys[i])\n",
        "    \n",
        "    w1 -= lr * grad_w1\n",
        "    w2 -= lr * grad_w2\n",
        "    b -= lr * grad_b"
      ],
      "execution_count": 0,
      "outputs": []
    },
    {
      "cell_type": "code",
      "metadata": {
        "id": "ouGCs5h0Vb7j",
        "colab_type": "code",
        "colab": {}
      },
      "source": [
        "test_loss = 0\n",
        "for i in np.arange(20):\n",
        "  test_loss += 0.5 * (w1 * test_x1s[i] + w2 * test_x2s[i] + b - test_ys[i]) ** 2\n",
        "test_loss /= 20"
      ],
      "execution_count": 0,
      "outputs": []
    },
    {
      "cell_type": "code",
      "metadata": {
        "id": "ceyzFn1sVtb8",
        "colab_type": "code",
        "outputId": "abe90374-adee-4252-f3b7-4c287a23b7ca",
        "colab": {
          "base_uri": "https://localhost:8080/",
          "height": 34
        }
      },
      "source": [
        "test_loss"
      ],
      "execution_count": 51,
      "outputs": [
        {
          "output_type": "execute_result",
          "data": {
            "text/plain": [
              "array([1.64380538])"
            ]
          },
          "metadata": {
            "tags": []
          },
          "execution_count": 51
        }
      ]
    },
    {
      "cell_type": "code",
      "metadata": {
        "id": "OagpMGGUVw5k",
        "colab_type": "code",
        "colab": {}
      },
      "source": [
        "pred_ys = w1 * test_x1s + w2 * test_x2s + b"
      ],
      "execution_count": 0,
      "outputs": []
    },
    {
      "cell_type": "markdown",
      "metadata": {
        "id": "gdDovaCuo4cs",
        "colab_type": "text"
      },
      "source": [
        "#Plot test values vs. predicted values"
      ]
    },
    {
      "cell_type": "code",
      "metadata": {
        "id": "QS4IdviyXBac",
        "colab_type": "code",
        "outputId": "590673c5-41cc-4697-a272-7e61d9340db6",
        "colab": {
          "base_uri": "https://localhost:8080/",
          "height": 248
        }
      },
      "source": [
        "ax = plt.axes(projection='3d')\n",
        "\n",
        "ax.scatter(test_x1s, test_x2s, test_ys, 'z', 20, \"b\")\n",
        "ax.scatter(test_x1s, test_x2s, pred_ys, 'z', 20, \"r\")\n",
        "\n",
        "plt.xlabel(\"$x_1$\", fontsize=20)\n",
        "plt.ylabel(\"$x_2$\", fontsize=20)\n",
        "plt.axis([0, 2, 0, 2])\n",
        "plt.show()"
      ],
      "execution_count": 53,
      "outputs": [
        {
          "output_type": "display_data",
          "data": {
            "image/png": "[encoded data removed]",
            "text/plain": [
              "<Figure size 432x288 with 1 Axes>"
            ]
          },
          "metadata": {
            "tags": []
          }
        }
      ]
    },
    {
      "cell_type": "markdown",
      "metadata": {
        "id": "RrdzXtFbpDvQ",
        "colab_type": "text"
      },
      "source": [
        "##Show final bias and weights"
      ]
    },
    {
      "cell_type": "code",
      "metadata": {
        "id": "bG_ZQa2_X4o9",
        "colab_type": "code",
        "outputId": "883b1cac-a07c-4a54-daad-32f9fc1ee042",
        "colab": {
          "base_uri": "https://localhost:8080/",
          "height": 34
        }
      },
      "source": [
        "b"
      ],
      "execution_count": 54,
      "outputs": [
        {
          "output_type": "execute_result",
          "data": {
            "text/plain": [
              "array([3.75751188])"
            ]
          },
          "metadata": {
            "tags": []
          },
          "execution_count": 54
        }
      ]
    },
    {
      "cell_type": "code",
      "metadata": {
        "id": "YNsGzVF0hMW9",
        "colab_type": "code",
        "outputId": "4dc16ac0-4b8d-4fe3-88d8-86d6cd1bd843",
        "colab": {
          "base_uri": "https://localhost:8080/",
          "height": 34
        }
      },
      "source": [
        "w1"
      ],
      "execution_count": 55,
      "outputs": [
        {
          "output_type": "execute_result",
          "data": {
            "text/plain": [
              "array([2.01598025])"
            ]
          },
          "metadata": {
            "tags": []
          },
          "execution_count": 55
        }
      ]
    },
    {
      "cell_type": "code",
      "metadata": {
        "id": "472UYfbXha8U",
        "colab_type": "code",
        "outputId": "868722fc-aa31-453c-b05b-a2ef2219a34b",
        "colab": {
          "base_uri": "https://localhost:8080/",
          "height": 34
        }
      },
      "source": [
        "w2"
      ],
      "execution_count": 56,
      "outputs": [
        {
          "output_type": "execute_result",
          "data": {
            "text/plain": [
              "array([1.86565816])"
            ]
          },
          "metadata": {
            "tags": []
          },
          "execution_count": 56
        }
      ]
    }
  ]
}